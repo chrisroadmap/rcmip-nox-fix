{
 "cells": [
  {
   "cell_type": "code",
   "execution_count": null,
   "id": "f29dbfa9",
   "metadata": {},
   "outputs": [],
   "source": [
    "import os\n",
    "\n",
    "import pandas as pd\n",
    "from tqdm.auto import tqdm"
   ]
  },
  {
   "cell_type": "code",
   "execution_count": null,
   "id": "8b541638",
   "metadata": {},
   "outputs": [],
   "source": [
    "df = pd.read_csv(\"https://zenodo.org/record/4589756/files/rcmip-emissions-annual-means-v5-1-0.csv\")"
   ]
  },
  {
   "cell_type": "code",
   "execution_count": null,
   "id": "d5a43754",
   "metadata": {},
   "outputs": [],
   "source": [
    "df"
   ]
  },
  {
   "cell_type": "code",
   "execution_count": null,
   "id": "c68d8739",
   "metadata": {},
   "outputs": [],
   "source": [
    "bbcats = [\n",
    "    \"Emissions|NOx|MAGICC AFOLU|Grassland Burning\",\n",
    "    \"Emissions|NOx|MAGICC AFOLU|Peat Burning\",\n",
    "    \"Emissions|NOx|MAGICC AFOLU|Forest Burning\",\n",
    "    \"Emissions|NOx|MAGICC AFOLU|Agricultural Waste Burning\",\n",
    "]"
   ]
  },
  {
   "cell_type": "code",
   "execution_count": null,
   "id": "e37c70b6",
   "metadata": {},
   "outputs": [],
   "source": [
    "afolucats = [\n",
    "    \"Emissions|NOx|MAGICC AFOLU|Grassland Burning\",\n",
    "    \"Emissions|NOx|MAGICC AFOLU|Peat Burning\",\n",
    "    \"Emissions|NOx|MAGICC AFOLU|Forest Burning\",\n",
    "    \"Emissions|NOx|MAGICC AFOLU|Agricultural Waste Burning\",\n",
    "    \"Emissions|NOx|MAGICC AFOLU|Agriculture\",\n",
    "]"
   ]
  },
  {
   "cell_type": "code",
   "execution_count": null,
   "id": "df2d5e51",
   "metadata": {},
   "outputs": [],
   "source": [
    "# uplift by ratio of NO2 to NO\n",
    "df.loc[df[\"Variable\"].isin(bbcats), \"1750\":]"
   ]
  },
  {
   "cell_type": "code",
   "execution_count": null,
   "id": "b6d7f4e9",
   "metadata": {},
   "outputs": [],
   "source": [
    "df.loc[df[\"Variable\"].isin(bbcats), \"1750\":] = df.loc[df[\"Variable\"].isin(bbcats), \"1750\":] * 46.006/30.006"
   ]
  },
  {
   "cell_type": "code",
   "execution_count": null,
   "id": "27d91a54",
   "metadata": {},
   "outputs": [],
   "source": [
    "# add together these updated contributions to MAGICC AFOLU total\n",
    "for idx, data in tqdm(df.loc[df[\"Variable\"].isin(afolucats)].groupby([\"Model\", \"Scenario\", \"Region\"])):\n",
    "    df.loc[\n",
    "        (df[\"Variable\"]==\"Emissions|NOx|MAGICC AFOLU\") &\n",
    "        (df[\"Model\"]==idx[0]) &\n",
    "        (df[\"Scenario\"]==idx[1]) &\n",
    "        (df[\"Region\"]==idx[2]),\n",
    "    \"1750\":] = data.sum(skipna=False)[\"1750\":].values"
   ]
  },
  {
   "cell_type": "code",
   "execution_count": null,
   "id": "5c81b832",
   "metadata": {},
   "outputs": [],
   "source": [
    "noxcats = [\"Emissions|NOx|MAGICC AFOLU\", \"Emissions|NOx|MAGICC Fossil and Industrial\"]"
   ]
  },
  {
   "cell_type": "code",
   "execution_count": null,
   "id": "b02ccd38",
   "metadata": {},
   "outputs": [],
   "source": [
    "# add together these updated contributions to NOx total\n",
    "for idx, data in tqdm(df.loc[df[\"Variable\"].isin(noxcats)].groupby([\"Model\", \"Scenario\", \"Region\"])):\n",
    "    df.loc[\n",
    "        (df[\"Variable\"]==\"Emissions|NOx\") &\n",
    "        (df[\"Model\"]==idx[0]) &\n",
    "        (df[\"Scenario\"]==idx[1]) &\n",
    "        (df[\"Region\"]==idx[2]),\n",
    "    \"1750\":] = data.sum(skipna=False)[\"1750\":].values"
   ]
  },
  {
   "cell_type": "code",
   "execution_count": null,
   "id": "56935b90",
   "metadata": {},
   "outputs": [],
   "source": [
    "df.to_csv('rcmip-emissions-annual-means-v6-0-0.csv', index=False)"
   ]
  },
  {
   "cell_type": "code",
   "execution_count": null,
   "id": "cf6a12af",
   "metadata": {},
   "outputs": [],
   "source": []
  }
 ],
 "metadata": {
  "kernelspec": {
   "display_name": "Python 3 (ipykernel)",
   "language": "python",
   "name": "python3"
  },
  "language_info": {
   "codemirror_mode": {
    "name": "ipython",
    "version": 3
   },
   "file_extension": ".py",
   "mimetype": "text/x-python",
   "name": "python",
   "nbconvert_exporter": "python",
   "pygments_lexer": "ipython3",
   "version": "3.11.3"
  }
 },
 "nbformat": 4,
 "nbformat_minor": 5
}
